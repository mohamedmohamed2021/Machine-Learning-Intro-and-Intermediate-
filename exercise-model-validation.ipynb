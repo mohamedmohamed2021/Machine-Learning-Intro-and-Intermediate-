{
 "cells": [
  {
   "cell_type": "markdown",
   "id": "c3de3246",
   "metadata": {
    "papermill": {
     "duration": 0.006581,
     "end_time": "2022-07-13T13:53:49.593238",
     "exception": false,
     "start_time": "2022-07-13T13:53:49.586657",
     "status": "completed"
    },
    "tags": []
   },
   "source": [
    "**This notebook is an exercise in the [Introduction to Machine Learning](https://www.kaggle.com/learn/intro-to-machine-learning) course.  You can reference the tutorial at [this link](https://www.kaggle.com/dansbecker/model-validation).**\n",
    "\n",
    "---\n"
   ]
  },
  {
   "cell_type": "markdown",
   "id": "020aeb5f",
   "metadata": {
    "papermill": {
     "duration": 0.00496,
     "end_time": "2022-07-13T13:53:49.603877",
     "exception": false,
     "start_time": "2022-07-13T13:53:49.598917",
     "status": "completed"
    },
    "tags": []
   },
   "source": [
    "## Recap\n",
    "You've built a model. In this exercise you will test how good your model is.\n",
    "\n",
    "Run the cell below to set up your coding environment where the previous exercise left off."
   ]
  },
  {
   "cell_type": "code",
   "execution_count": 1,
   "id": "69297d8e",
   "metadata": {
    "execution": {
     "iopub.execute_input": "2022-07-13T13:53:49.618174Z",
     "iopub.status.busy": "2022-07-13T13:53:49.617079Z",
     "iopub.status.idle": "2022-07-13T13:53:51.331310Z",
     "shell.execute_reply": "2022-07-13T13:53:51.330175Z"
    },
    "papermill": {
     "duration": 1.725787,
     "end_time": "2022-07-13T13:53:51.335085",
     "exception": false,
     "start_time": "2022-07-13T13:53:49.609298",
     "status": "completed"
    },
    "tags": []
   },
   "outputs": [
    {
     "name": "stdout",
     "output_type": "stream",
     "text": [
      "First in-sample predictions: [208500. 181500. 223500. 140000. 250000.]\n",
      "Actual target values for those homes: [208500, 181500, 223500, 140000, 250000]\n",
      "Setup Complete\n"
     ]
    }
   ],
   "source": [
    "# Code you have previously used to load data\n",
    "import pandas as pd\n",
    "from sklearn.tree import DecisionTreeRegressor\n",
    "\n",
    "# Path of the file to read\n",
    "iowa_file_path = '../input/home-data-for-ml-course/train.csv'\n",
    "\n",
    "home_data = pd.read_csv(iowa_file_path)\n",
    "y = home_data.SalePrice\n",
    "feature_columns = ['LotArea', 'YearBuilt', '1stFlrSF', '2ndFlrSF', 'FullBath', 'BedroomAbvGr', 'TotRmsAbvGrd']\n",
    "X = home_data[feature_columns]\n",
    "\n",
    "# Specify Model\n",
    "iowa_model = DecisionTreeRegressor()\n",
    "# Fit Model\n",
    "iowa_model.fit(X, y)\n",
    "\n",
    "print(\"First in-sample predictions:\", iowa_model.predict(X.head()))\n",
    "print(\"Actual target values for those homes:\", y.head().tolist())\n",
    "\n",
    "# Set up code checking\n",
    "from learntools.core import binder\n",
    "binder.bind(globals())\n",
    "from learntools.machine_learning.ex4 import *\n",
    "print(\"Setup Complete\")"
   ]
  },
  {
   "cell_type": "markdown",
   "id": "15651b29",
   "metadata": {
    "papermill": {
     "duration": 0.005027,
     "end_time": "2022-07-13T13:53:51.346676",
     "exception": false,
     "start_time": "2022-07-13T13:53:51.341649",
     "status": "completed"
    },
    "tags": []
   },
   "source": [
    "# Exercises\n",
    "\n",
    "## Step 1: Split Your Data\n",
    "Use the `train_test_split` function to split up your data.\n",
    "\n",
    "Give it the argument `random_state=1` so the `check` functions know what to expect when verifying your code.\n",
    "\n",
    "Recall, your features are loaded in the DataFrame **X** and your target is loaded in **y**.\n"
   ]
  },
  {
   "cell_type": "code",
   "execution_count": 2,
   "id": "0f128670",
   "metadata": {
    "execution": {
     "iopub.execute_input": "2022-07-13T13:53:51.359089Z",
     "iopub.status.busy": "2022-07-13T13:53:51.358669Z",
     "iopub.status.idle": "2022-07-13T13:53:51.376047Z",
     "shell.execute_reply": "2022-07-13T13:53:51.374834Z"
    },
    "papermill": {
     "duration": 0.026577,
     "end_time": "2022-07-13T13:53:51.378631",
     "exception": false,
     "start_time": "2022-07-13T13:53:51.352054",
     "status": "completed"
    },
    "tags": []
   },
   "outputs": [
    {
     "data": {
      "application/javascript": [
       "parent.postMessage({\"jupyterEvent\": \"custom.exercise_interaction\", \"data\": {\"outcomeType\": 1, \"valueTowardsCompletion\": 0.25, \"interactionType\": 1, \"questionType\": 2, \"questionId\": \"1_SplitData\", \"learnToolsVersion\": \"0.3.4\", \"failureMessage\": \"\", \"exceptionClass\": \"\", \"trace\": \"\"}}, \"*\")"
      ],
      "text/plain": [
       "<IPython.core.display.Javascript object>"
      ]
     },
     "metadata": {},
     "output_type": "display_data"
    },
    {
     "data": {
      "text/markdown": [
       "<span style=\"color:#33cc33\">Correct</span>"
      ],
      "text/plain": [
       "Correct"
      ]
     },
     "metadata": {},
     "output_type": "display_data"
    }
   ],
   "source": [
    "# Import the train_test_split function and uncomment\n",
    "from sklearn.model_selection import train_test_split\n",
    "\n",
    "# fill in and uncomment\n",
    "train_X, val_X, train_y, val_y = train_test_split(X,y,random_state = 1)\n",
    "\n",
    "# Check your answer\n",
    "step_1.check()"
   ]
  },
  {
   "cell_type": "code",
   "execution_count": 3,
   "id": "cd3d1271",
   "metadata": {
    "execution": {
     "iopub.execute_input": "2022-07-13T13:53:51.392171Z",
     "iopub.status.busy": "2022-07-13T13:53:51.391302Z",
     "iopub.status.idle": "2022-07-13T13:53:51.396198Z",
     "shell.execute_reply": "2022-07-13T13:53:51.394941Z"
    },
    "papermill": {
     "duration": 0.014424,
     "end_time": "2022-07-13T13:53:51.398632",
     "exception": false,
     "start_time": "2022-07-13T13:53:51.384208",
     "status": "completed"
    },
    "tags": []
   },
   "outputs": [],
   "source": [
    "# The lines below will show you a hint or the solution.\n",
    "# step_1.hint() \n",
    "# step_1.solution()\n"
   ]
  },
  {
   "cell_type": "markdown",
   "id": "0dad237c",
   "metadata": {
    "papermill": {
     "duration": 0.005219,
     "end_time": "2022-07-13T13:53:51.409316",
     "exception": false,
     "start_time": "2022-07-13T13:53:51.404097",
     "status": "completed"
    },
    "tags": []
   },
   "source": [
    "## Step 2: Specify and Fit the Model\n",
    "\n",
    "Create a `DecisionTreeRegressor` model and fit it to the relevant data.\n",
    "Set `random_state` to 1 again when creating the model."
   ]
  },
  {
   "cell_type": "code",
   "execution_count": 4,
   "id": "86f702bc",
   "metadata": {
    "execution": {
     "iopub.execute_input": "2022-07-13T13:53:51.422226Z",
     "iopub.status.busy": "2022-07-13T13:53:51.421444Z",
     "iopub.status.idle": "2022-07-13T13:53:51.450768Z",
     "shell.execute_reply": "2022-07-13T13:53:51.449339Z"
    },
    "papermill": {
     "duration": 0.03873,
     "end_time": "2022-07-13T13:53:51.453337",
     "exception": false,
     "start_time": "2022-07-13T13:53:51.414607",
     "status": "completed"
    },
    "tags": []
   },
   "outputs": [
    {
     "name": "stdout",
     "output_type": "stream",
     "text": [
      "[186500. 184000. 130000.  92000. 164500. 220000. 335000. 144152. 215000.\n",
      " 262000.]\n",
      "[186500. 184000. 130000.  92000. 164500. 220000. 335000. 144152. 215000.\n",
      " 262000.]\n"
     ]
    },
    {
     "data": {
      "application/javascript": [
       "parent.postMessage({\"jupyterEvent\": \"custom.exercise_interaction\", \"data\": {\"outcomeType\": 1, \"valueTowardsCompletion\": 0.25, \"interactionType\": 1, \"questionType\": 2, \"questionId\": \"2_FitModelWithTrain\", \"learnToolsVersion\": \"0.3.4\", \"failureMessage\": \"\", \"exceptionClass\": \"\", \"trace\": \"\"}}, \"*\")"
      ],
      "text/plain": [
       "<IPython.core.display.Javascript object>"
      ]
     },
     "metadata": {},
     "output_type": "display_data"
    },
    {
     "data": {
      "text/markdown": [
       "<span style=\"color:#33cc33\">Correct</span>"
      ],
      "text/plain": [
       "Correct"
      ]
     },
     "metadata": {},
     "output_type": "display_data"
    }
   ],
   "source": [
    "# You imported DecisionTreeRegressor in your last exercise\n",
    "# and that code has been copied to the setup code above. So, no need to\n",
    "# import it again\n",
    "\n",
    "# Specify the model\n",
    "iowa_model = DecisionTreeRegressor(random_state = 1)\n",
    "\n",
    "# Fit iowa_model with the training data.\n",
    "iowa_model.fit(train_X,train_y)\n",
    "# Check your answer\n",
    "step_2.check()"
   ]
  },
  {
   "cell_type": "code",
   "execution_count": 5,
   "id": "208a7989",
   "metadata": {
    "execution": {
     "iopub.execute_input": "2022-07-13T13:53:51.467584Z",
     "iopub.status.busy": "2022-07-13T13:53:51.466672Z",
     "iopub.status.idle": "2022-07-13T13:53:51.470557Z",
     "shell.execute_reply": "2022-07-13T13:53:51.469779Z"
    },
    "papermill": {
     "duration": 0.013088,
     "end_time": "2022-07-13T13:53:51.472513",
     "exception": false,
     "start_time": "2022-07-13T13:53:51.459425",
     "status": "completed"
    },
    "tags": []
   },
   "outputs": [],
   "source": [
    "# step_2.hint()\n",
    "# step_2.solution()"
   ]
  },
  {
   "cell_type": "markdown",
   "id": "0a14aaf9",
   "metadata": {
    "papermill": {
     "duration": 0.005446,
     "end_time": "2022-07-13T13:53:51.483854",
     "exception": false,
     "start_time": "2022-07-13T13:53:51.478408",
     "status": "completed"
    },
    "tags": []
   },
   "source": [
    "## Step 3: Make Predictions with Validation data\n"
   ]
  },
  {
   "cell_type": "code",
   "execution_count": 6,
   "id": "3375c034",
   "metadata": {
    "execution": {
     "iopub.execute_input": "2022-07-13T13:53:51.497575Z",
     "iopub.status.busy": "2022-07-13T13:53:51.496701Z",
     "iopub.status.idle": "2022-07-13T13:53:51.507932Z",
     "shell.execute_reply": "2022-07-13T13:53:51.506906Z"
    },
    "papermill": {
     "duration": 0.020856,
     "end_time": "2022-07-13T13:53:51.510406",
     "exception": false,
     "start_time": "2022-07-13T13:53:51.489550",
     "status": "completed"
    },
    "tags": []
   },
   "outputs": [
    {
     "data": {
      "application/javascript": [
       "parent.postMessage({\"jupyterEvent\": \"custom.exercise_interaction\", \"data\": {\"outcomeType\": 1, \"valueTowardsCompletion\": 0.25, \"interactionType\": 1, \"questionType\": 2, \"questionId\": \"3_ValPreds\", \"learnToolsVersion\": \"0.3.4\", \"failureMessage\": \"\", \"exceptionClass\": \"\", \"trace\": \"\"}}, \"*\")"
      ],
      "text/plain": [
       "<IPython.core.display.Javascript object>"
      ]
     },
     "metadata": {},
     "output_type": "display_data"
    },
    {
     "data": {
      "text/markdown": [
       "<span style=\"color:#33cc33\">Correct</span>"
      ],
      "text/plain": [
       "Correct"
      ]
     },
     "metadata": {},
     "output_type": "display_data"
    }
   ],
   "source": [
    "# Predict with all validation observations\n",
    "val_predictions = iowa_model.predict(val_X)\n",
    "\n",
    "# Check your answer\n",
    "step_3.check()"
   ]
  },
  {
   "cell_type": "code",
   "execution_count": 7,
   "id": "99e7664b",
   "metadata": {
    "execution": {
     "iopub.execute_input": "2022-07-13T13:53:51.524736Z",
     "iopub.status.busy": "2022-07-13T13:53:51.524013Z",
     "iopub.status.idle": "2022-07-13T13:53:51.527849Z",
     "shell.execute_reply": "2022-07-13T13:53:51.527090Z"
    },
    "papermill": {
     "duration": 0.013938,
     "end_time": "2022-07-13T13:53:51.530402",
     "exception": false,
     "start_time": "2022-07-13T13:53:51.516464",
     "status": "completed"
    },
    "tags": []
   },
   "outputs": [],
   "source": [
    "# step_3.hint()\n",
    "# step_3.solution()"
   ]
  },
  {
   "cell_type": "markdown",
   "id": "0295cf3a",
   "metadata": {
    "papermill": {
     "duration": 0.005842,
     "end_time": "2022-07-13T13:53:51.542520",
     "exception": false,
     "start_time": "2022-07-13T13:53:51.536678",
     "status": "completed"
    },
    "tags": []
   },
   "source": [
    "Inspect your predictions and actual values from validation data."
   ]
  },
  {
   "cell_type": "code",
   "execution_count": 8,
   "id": "49bddba9",
   "metadata": {
    "execution": {
     "iopub.execute_input": "2022-07-13T13:53:51.556447Z",
     "iopub.status.busy": "2022-07-13T13:53:51.556040Z",
     "iopub.status.idle": "2022-07-13T13:53:51.566737Z",
     "shell.execute_reply": "2022-07-13T13:53:51.565887Z"
    },
    "papermill": {
     "duration": 0.020306,
     "end_time": "2022-07-13T13:53:51.568937",
     "exception": false,
     "start_time": "2022-07-13T13:53:51.548631",
     "status": "completed"
    },
    "tags": []
   },
   "outputs": [
    {
     "name": "stdout",
     "output_type": "stream",
     "text": [
      "      LotArea  YearBuilt  1stFlrSF  2ndFlrSF  FullBath  BedroomAbvGr  \\\n",
      "258     12435       2001       963       829         2             3   \n",
      "267      8400       1939      1052       720         2             4   \n",
      "288      9819       1967       900         0         1             3   \n",
      "649      1936       1970       630         0         1             1   \n",
      "1233    12160       1959      1188         0         1             3   \n",
      "\n",
      "      TotRmsAbvGrd  \n",
      "258              7  \n",
      "267              8  \n",
      "288              5  \n",
      "649              3  \n",
      "1233             6  \n",
      "258     231500\n",
      "267     179500\n",
      "288     122000\n",
      "649      84500\n",
      "1233    142000\n",
      "Name: SalePrice, dtype: int64\n"
     ]
    }
   ],
   "source": [
    "# print the top few validation predictions\n",
    "print(val_X.head())\n",
    "# print the top few actual prices from validation data\n",
    "print(val_y.head())"
   ]
  },
  {
   "cell_type": "markdown",
   "id": "b13ccc04",
   "metadata": {
    "papermill": {
     "duration": 0.005752,
     "end_time": "2022-07-13T13:53:51.580815",
     "exception": false,
     "start_time": "2022-07-13T13:53:51.575063",
     "status": "completed"
    },
    "tags": []
   },
   "source": [
    "What do you notice that is different from what you saw with in-sample predictions (which are printed after the top code cell in this page).\n",
    "\n",
    "Do you remember why validation predictions differ from in-sample (or training) predictions? This is an important idea from the last lesson.\n",
    "\n",
    "## Step 4: Calculate the Mean Absolute Error in Validation Data\n"
   ]
  },
  {
   "cell_type": "code",
   "execution_count": 9,
   "id": "b6679bda",
   "metadata": {
    "execution": {
     "iopub.execute_input": "2022-07-13T13:53:51.594443Z",
     "iopub.status.busy": "2022-07-13T13:53:51.594078Z",
     "iopub.status.idle": "2022-07-13T13:53:51.602793Z",
     "shell.execute_reply": "2022-07-13T13:53:51.602096Z"
    },
    "papermill": {
     "duration": 0.017821,
     "end_time": "2022-07-13T13:53:51.604709",
     "exception": false,
     "start_time": "2022-07-13T13:53:51.586888",
     "status": "completed"
    },
    "tags": []
   },
   "outputs": [
    {
     "data": {
      "application/javascript": [
       "parent.postMessage({\"jupyterEvent\": \"custom.exercise_interaction\", \"data\": {\"outcomeType\": 1, \"valueTowardsCompletion\": 0.25, \"interactionType\": 1, \"questionType\": 1, \"questionId\": \"4_MAE\", \"learnToolsVersion\": \"0.3.4\", \"failureMessage\": \"\", \"exceptionClass\": \"\", \"trace\": \"\"}}, \"*\")"
      ],
      "text/plain": [
       "<IPython.core.display.Javascript object>"
      ]
     },
     "metadata": {},
     "output_type": "display_data"
    },
    {
     "data": {
      "text/markdown": [
       "<span style=\"color:#33cc33\">Correct</span>"
      ],
      "text/plain": [
       "Correct"
      ]
     },
     "metadata": {},
     "output_type": "display_data"
    }
   ],
   "source": [
    "from sklearn.metrics import mean_absolute_error\n",
    "val_mae = mean_absolute_error(val_y,val_predictions)\n",
    "\n",
    "# uncomment following line to see the validation_mae\n",
    "#print(val_mae)\n",
    "\n",
    "# Check your answer\n",
    "step_4.check()"
   ]
  },
  {
   "cell_type": "code",
   "execution_count": 10,
   "id": "6a9d2330",
   "metadata": {
    "execution": {
     "iopub.execute_input": "2022-07-13T13:53:51.618993Z",
     "iopub.status.busy": "2022-07-13T13:53:51.618337Z",
     "iopub.status.idle": "2022-07-13T13:53:51.621999Z",
     "shell.execute_reply": "2022-07-13T13:53:51.621220Z"
    },
    "papermill": {
     "duration": 0.013066,
     "end_time": "2022-07-13T13:53:51.623937",
     "exception": false,
     "start_time": "2022-07-13T13:53:51.610871",
     "status": "completed"
    },
    "tags": []
   },
   "outputs": [],
   "source": [
    "# step_4.hint()\n",
    "# step_4.solution()"
   ]
  },
  {
   "cell_type": "markdown",
   "id": "a9eff735",
   "metadata": {
    "papermill": {
     "duration": 0.006143,
     "end_time": "2022-07-13T13:53:51.636353",
     "exception": false,
     "start_time": "2022-07-13T13:53:51.630210",
     "status": "completed"
    },
    "tags": []
   },
   "source": [
    "Is that MAE good?  There isn't a general rule for what values are good that applies across applications. But you'll see how to use (and improve) this number in the next step.\n",
    "\n",
    "# Keep Going\n",
    "\n",
    "You are ready for **[Underfitting and Overfitting](https://www.kaggle.com/dansbecker/underfitting-and-overfitting).**\n"
   ]
  },
  {
   "cell_type": "markdown",
   "id": "5221ce84",
   "metadata": {
    "papermill": {
     "duration": 0.006071,
     "end_time": "2022-07-13T13:53:51.648717",
     "exception": false,
     "start_time": "2022-07-13T13:53:51.642646",
     "status": "completed"
    },
    "tags": []
   },
   "source": [
    "---\n",
    "\n",
    "\n",
    "\n",
    "\n",
    "*Have questions or comments? Visit the [course discussion forum](https://www.kaggle.com/learn/intro-to-machine-learning/discussion) to chat with other learners.*"
   ]
  }
 ],
 "metadata": {
  "kernelspec": {
   "display_name": "Python 3",
   "language": "python",
   "name": "python3"
  },
  "language_info": {
   "codemirror_mode": {
    "name": "ipython",
    "version": 3
   },
   "file_extension": ".py",
   "mimetype": "text/x-python",
   "name": "python",
   "nbconvert_exporter": "python",
   "pygments_lexer": "ipython3",
   "version": "3.7.12"
  },
  "papermill": {
   "default_parameters": {},
   "duration": 13.133071,
   "end_time": "2022-07-13T13:53:52.376382",
   "environment_variables": {},
   "exception": null,
   "input_path": "__notebook__.ipynb",
   "output_path": "__notebook__.ipynb",
   "parameters": {},
   "start_time": "2022-07-13T13:53:39.243311",
   "version": "2.3.4"
  }
 },
 "nbformat": 4,
 "nbformat_minor": 5
}
