{
 "cells": [
  {
   "cell_type": "markdown",
   "id": "3c6de923",
   "metadata": {
    "papermill": {
     "duration": 0.006788,
     "end_time": "2022-07-13T11:56:50.779281",
     "exception": false,
     "start_time": "2022-07-13T11:56:50.772493",
     "status": "completed"
    },
    "tags": []
   },
   "source": [
    "**This notebook is an exercise in the [Introduction to Machine Learning](https://www.kaggle.com/learn/intro-to-machine-learning) course.  You can reference the tutorial at [this link](https://www.kaggle.com/dansbecker/your-first-machine-learning-model).**\n",
    "\n",
    "---\n"
   ]
  },
  {
   "cell_type": "markdown",
   "id": "c11f8d18",
   "metadata": {
    "papermill": {
     "duration": 0.005815,
     "end_time": "2022-07-13T11:56:50.791208",
     "exception": false,
     "start_time": "2022-07-13T11:56:50.785393",
     "status": "completed"
    },
    "tags": []
   },
   "source": [
    "## Recap\n",
    "So far, you have loaded your data and reviewed it with the following code. Run this cell to set up your coding environment where the previous step left off."
   ]
  },
  {
   "cell_type": "code",
   "execution_count": 1,
   "id": "2413a6b7",
   "metadata": {
    "execution": {
     "iopub.execute_input": "2022-07-13T11:56:50.805209Z",
     "iopub.status.busy": "2022-07-13T11:56:50.804491Z",
     "iopub.status.idle": "2022-07-13T11:56:52.245050Z",
     "shell.execute_reply": "2022-07-13T11:56:52.243779Z"
    },
    "papermill": {
     "duration": 1.450732,
     "end_time": "2022-07-13T11:56:52.247921",
     "exception": false,
     "start_time": "2022-07-13T11:56:50.797189",
     "status": "completed"
    },
    "tags": []
   },
   "outputs": [
    {
     "name": "stdout",
     "output_type": "stream",
     "text": [
      "Setup Complete\n"
     ]
    }
   ],
   "source": [
    "# Code you have previously used to load data\n",
    "import pandas as pd\n",
    "\n",
    "# Path of the file to read\n",
    "iowa_file_path = '../input/home-data-for-ml-course/train.csv'\n",
    "\n",
    "home_data = pd.read_csv(iowa_file_path)\n",
    "\n",
    "# Set up code checking\n",
    "from learntools.core import binder\n",
    "binder.bind(globals())\n",
    "from learntools.machine_learning.ex3 import *\n",
    "\n",
    "print(\"Setup Complete\")"
   ]
  },
  {
   "cell_type": "markdown",
   "id": "ae2f977b",
   "metadata": {
    "papermill": {
     "duration": 0.006342,
     "end_time": "2022-07-13T11:56:52.260347",
     "exception": false,
     "start_time": "2022-07-13T11:56:52.254005",
     "status": "completed"
    },
    "tags": []
   },
   "source": [
    "# Exercises\n",
    "\n",
    "## Step 1: Specify Prediction Target\n",
    "Select the target variable, which corresponds to the sales price. Save this to a new variable called `y`. You'll need to print a list of the columns to find the name of the column you need.\n"
   ]
  },
  {
   "cell_type": "code",
   "execution_count": 2,
   "id": "be490939",
   "metadata": {
    "execution": {
     "iopub.execute_input": "2022-07-13T11:56:52.274678Z",
     "iopub.status.busy": "2022-07-13T11:56:52.274249Z",
     "iopub.status.idle": "2022-07-13T11:56:52.285679Z",
     "shell.execute_reply": "2022-07-13T11:56:52.284080Z"
    },
    "papermill": {
     "duration": 0.02214,
     "end_time": "2022-07-13T11:56:52.288617",
     "exception": false,
     "start_time": "2022-07-13T11:56:52.266477",
     "status": "completed"
    },
    "tags": []
   },
   "outputs": [
    {
     "data": {
      "text/plain": [
       "Index(['Id', 'MSSubClass', 'MSZoning', 'LotFrontage', 'LotArea', 'Street',\n",
       "       'Alley', 'LotShape', 'LandContour', 'Utilities', 'LotConfig',\n",
       "       'LandSlope', 'Neighborhood', 'Condition1', 'Condition2', 'BldgType',\n",
       "       'HouseStyle', 'OverallQual', 'OverallCond', 'YearBuilt', 'YearRemodAdd',\n",
       "       'RoofStyle', 'RoofMatl', 'Exterior1st', 'Exterior2nd', 'MasVnrType',\n",
       "       'MasVnrArea', 'ExterQual', 'ExterCond', 'Foundation', 'BsmtQual',\n",
       "       'BsmtCond', 'BsmtExposure', 'BsmtFinType1', 'BsmtFinSF1',\n",
       "       'BsmtFinType2', 'BsmtFinSF2', 'BsmtUnfSF', 'TotalBsmtSF', 'Heating',\n",
       "       'HeatingQC', 'CentralAir', 'Electrical', '1stFlrSF', '2ndFlrSF',\n",
       "       'LowQualFinSF', 'GrLivArea', 'BsmtFullBath', 'BsmtHalfBath', 'FullBath',\n",
       "       'HalfBath', 'BedroomAbvGr', 'KitchenAbvGr', 'KitchenQual',\n",
       "       'TotRmsAbvGrd', 'Functional', 'Fireplaces', 'FireplaceQu', 'GarageType',\n",
       "       'GarageYrBlt', 'GarageFinish', 'GarageCars', 'GarageArea', 'GarageQual',\n",
       "       'GarageCond', 'PavedDrive', 'WoodDeckSF', 'OpenPorchSF',\n",
       "       'EnclosedPorch', '3SsnPorch', 'ScreenPorch', 'PoolArea', 'PoolQC',\n",
       "       'Fence', 'MiscFeature', 'MiscVal', 'MoSold', 'YrSold', 'SaleType',\n",
       "       'SaleCondition', 'SalePrice'],\n",
       "      dtype='object')"
      ]
     },
     "execution_count": 2,
     "metadata": {},
     "output_type": "execute_result"
    }
   ],
   "source": [
    "# print the list of columns in the dataset to find the name of the prediction target\n",
    "home_data.columns"
   ]
  },
  {
   "cell_type": "code",
   "execution_count": 3,
   "id": "2a974985",
   "metadata": {
    "execution": {
     "iopub.execute_input": "2022-07-13T11:56:52.303273Z",
     "iopub.status.busy": "2022-07-13T11:56:52.302641Z",
     "iopub.status.idle": "2022-07-13T11:56:52.316661Z",
     "shell.execute_reply": "2022-07-13T11:56:52.315809Z"
    },
    "papermill": {
     "duration": 0.023861,
     "end_time": "2022-07-13T11:56:52.318801",
     "exception": false,
     "start_time": "2022-07-13T11:56:52.294940",
     "status": "completed"
    },
    "tags": []
   },
   "outputs": [
    {
     "data": {
      "application/javascript": [
       "parent.postMessage({\"jupyterEvent\": \"custom.exercise_interaction\", \"data\": {\"outcomeType\": 1, \"valueTowardsCompletion\": 0.25, \"interactionType\": 1, \"questionType\": 2, \"questionId\": \"1_SetTarget\", \"learnToolsVersion\": \"0.3.4\", \"failureMessage\": \"\", \"exceptionClass\": \"\", \"trace\": \"\"}}, \"*\")"
      ],
      "text/plain": [
       "<IPython.core.display.Javascript object>"
      ]
     },
     "metadata": {},
     "output_type": "display_data"
    },
    {
     "data": {
      "text/markdown": [
       "<span style=\"color:#33cc33\">Correct</span>"
      ],
      "text/plain": [
       "Correct"
      ]
     },
     "metadata": {},
     "output_type": "display_data"
    }
   ],
   "source": [
    "y = home_data.SalePrice\n",
    "# Check your answer\n",
    "step_1.check()"
   ]
  },
  {
   "cell_type": "code",
   "execution_count": 4,
   "id": "bd734380",
   "metadata": {
    "execution": {
     "iopub.execute_input": "2022-07-13T11:56:52.333801Z",
     "iopub.status.busy": "2022-07-13T11:56:52.332892Z",
     "iopub.status.idle": "2022-07-13T11:56:52.338178Z",
     "shell.execute_reply": "2022-07-13T11:56:52.337255Z"
    },
    "papermill": {
     "duration": 0.015314,
     "end_time": "2022-07-13T11:56:52.340414",
     "exception": false,
     "start_time": "2022-07-13T11:56:52.325100",
     "status": "completed"
    },
    "tags": []
   },
   "outputs": [],
   "source": [
    "# The lines below will show you a hint or the solution.\n",
    "# step_1.hint() \n",
    "# step_1.solution()"
   ]
  },
  {
   "cell_type": "markdown",
   "id": "a4de3037",
   "metadata": {
    "papermill": {
     "duration": 0.006244,
     "end_time": "2022-07-13T11:56:52.353086",
     "exception": false,
     "start_time": "2022-07-13T11:56:52.346842",
     "status": "completed"
    },
    "tags": []
   },
   "source": [
    "## Step 2: Create X\n",
    "Now you will create a DataFrame called `X` holding the predictive features.\n",
    "\n",
    "Since you want only some columns from the original data, you'll first create a list with the names of the columns you want in `X`.\n",
    "\n",
    "You'll use just the following columns in the list (you can copy and paste the whole list to save some typing, though you'll still need to add quotes):\n",
    "  * LotArea\n",
    "  * YearBuilt\n",
    "  * 1stFlrSF\n",
    "  * 2ndFlrSF\n",
    "  * FullBath\n",
    "  * BedroomAbvGr\n",
    "  * TotRmsAbvGrd\n",
    "\n",
    "After you've created that list of features, use it to create the DataFrame that you'll use to fit the model."
   ]
  },
  {
   "cell_type": "code",
   "execution_count": 5,
   "id": "ed9e0b65",
   "metadata": {
    "execution": {
     "iopub.execute_input": "2022-07-13T11:56:52.368654Z",
     "iopub.status.busy": "2022-07-13T11:56:52.368119Z",
     "iopub.status.idle": "2022-07-13T11:56:52.384509Z",
     "shell.execute_reply": "2022-07-13T11:56:52.383636Z"
    },
    "papermill": {
     "duration": 0.026595,
     "end_time": "2022-07-13T11:56:52.386635",
     "exception": false,
     "start_time": "2022-07-13T11:56:52.360040",
     "status": "completed"
    },
    "tags": []
   },
   "outputs": [
    {
     "data": {
      "application/javascript": [
       "parent.postMessage({\"jupyterEvent\": \"custom.exercise_interaction\", \"data\": {\"outcomeType\": 1, \"valueTowardsCompletion\": 0.25, \"interactionType\": 1, \"questionType\": 2, \"questionId\": \"2_SelectPredictionData\", \"learnToolsVersion\": \"0.3.4\", \"failureMessage\": \"\", \"exceptionClass\": \"\", \"trace\": \"\"}}, \"*\")"
      ],
      "text/plain": [
       "<IPython.core.display.Javascript object>"
      ]
     },
     "metadata": {},
     "output_type": "display_data"
    },
    {
     "data": {
      "text/markdown": [
       "<span style=\"color:#33cc33\">Correct</span>"
      ],
      "text/plain": [
       "Correct"
      ]
     },
     "metadata": {},
     "output_type": "display_data"
    }
   ],
   "source": [
    "# Create the list of features below\n",
    "feature_names =[\"LotArea\",\"YearBuilt\",\"1stFlrSF\",\"2ndFlrSF\",\"FullBath\",\"BedroomAbvGr\",\"TotRmsAbvGrd\"]\n",
    "\n",
    "# Select data corresponding to features in feature_names\n",
    "X = home_data[feature_names]\n",
    "\n",
    "# Check your answer\n",
    "step_2.check()"
   ]
  },
  {
   "cell_type": "code",
   "execution_count": 6,
   "id": "5a3b9d72",
   "metadata": {
    "execution": {
     "iopub.execute_input": "2022-07-13T11:56:52.402145Z",
     "iopub.status.busy": "2022-07-13T11:56:52.401438Z",
     "iopub.status.idle": "2022-07-13T11:56:52.405288Z",
     "shell.execute_reply": "2022-07-13T11:56:52.404450Z"
    },
    "papermill": {
     "duration": 0.01436,
     "end_time": "2022-07-13T11:56:52.407609",
     "exception": false,
     "start_time": "2022-07-13T11:56:52.393249",
     "status": "completed"
    },
    "tags": []
   },
   "outputs": [],
   "source": [
    "# step_2.hint()\n",
    "# step_2.solution()"
   ]
  },
  {
   "cell_type": "markdown",
   "id": "e755d2f8",
   "metadata": {
    "papermill": {
     "duration": 0.006249,
     "end_time": "2022-07-13T11:56:52.420489",
     "exception": false,
     "start_time": "2022-07-13T11:56:52.414240",
     "status": "completed"
    },
    "tags": []
   },
   "source": [
    "## Review Data\n",
    "Before building a model, take a quick look at **X** to verify it looks sensible"
   ]
  },
  {
   "cell_type": "code",
   "execution_count": 7,
   "id": "0618176c",
   "metadata": {
    "execution": {
     "iopub.execute_input": "2022-07-13T11:56:52.435658Z",
     "iopub.status.busy": "2022-07-13T11:56:52.434935Z",
     "iopub.status.idle": "2022-07-13T11:56:52.438986Z",
     "shell.execute_reply": "2022-07-13T11:56:52.438021Z"
    },
    "papermill": {
     "duration": 0.014081,
     "end_time": "2022-07-13T11:56:52.441136",
     "exception": false,
     "start_time": "2022-07-13T11:56:52.427055",
     "status": "completed"
    },
    "tags": []
   },
   "outputs": [],
   "source": [
    "# Review data\n",
    "# print description or statistics from X\n",
    "#print(_)\n",
    "\n",
    "# print the top few lines\n",
    "#print(_)"
   ]
  },
  {
   "cell_type": "markdown",
   "id": "1a9c79bb",
   "metadata": {
    "papermill": {
     "duration": 0.0067,
     "end_time": "2022-07-13T11:56:52.454729",
     "exception": false,
     "start_time": "2022-07-13T11:56:52.448029",
     "status": "completed"
    },
    "tags": []
   },
   "source": [
    "## Step 3: Specify and Fit Model\n",
    "Create a `DecisionTreeRegressor` and save it iowa_model. Ensure you've done the relevant import from sklearn to run this command.\n",
    "\n",
    "Then fit the model you just created using the data in `X` and `y` that you saved above."
   ]
  },
  {
   "cell_type": "code",
   "execution_count": 8,
   "id": "fb81aa6c",
   "metadata": {
    "execution": {
     "iopub.execute_input": "2022-07-13T11:56:52.470427Z",
     "iopub.status.busy": "2022-07-13T11:56:52.469794Z",
     "iopub.status.idle": "2022-07-13T11:56:52.488225Z",
     "shell.execute_reply": "2022-07-13T11:56:52.487322Z"
    },
    "papermill": {
     "duration": 0.028869,
     "end_time": "2022-07-13T11:56:52.490488",
     "exception": false,
     "start_time": "2022-07-13T11:56:52.461619",
     "status": "completed"
    },
    "tags": []
   },
   "outputs": [
    {
     "data": {
      "application/javascript": [
       "parent.postMessage({\"jupyterEvent\": \"custom.exercise_interaction\", \"data\": {\"outcomeType\": 1, \"valueTowardsCompletion\": 0.25, \"interactionType\": 1, \"questionType\": 2, \"questionId\": \"3_CreateModel\", \"learnToolsVersion\": \"0.3.4\", \"failureMessage\": \"\", \"exceptionClass\": \"\", \"trace\": \"\"}}, \"*\")"
      ],
      "text/plain": [
       "<IPython.core.display.Javascript object>"
      ]
     },
     "metadata": {},
     "output_type": "display_data"
    },
    {
     "data": {
      "text/markdown": [
       "<span style=\"color:#33cc33\">Correct</span>"
      ],
      "text/plain": [
       "Correct"
      ]
     },
     "metadata": {},
     "output_type": "display_data"
    }
   ],
   "source": [
    "from sklearn.tree import DecisionTreeRegressor\n",
    "#specify the model. \n",
    "#For model reproducibility, set a numeric value for random_state when specifying the model\n",
    "iowa_model = DecisionTreeRegressor(random_state= 1)\n",
    "\n",
    "# Fit the model\n",
    "iowa_model.fit(X,y)\n",
    "\n",
    "# Check your answer\n",
    "step_3.check()"
   ]
  },
  {
   "cell_type": "code",
   "execution_count": 9,
   "id": "313ddd8a",
   "metadata": {
    "execution": {
     "iopub.execute_input": "2022-07-13T11:56:52.506284Z",
     "iopub.status.busy": "2022-07-13T11:56:52.505693Z",
     "iopub.status.idle": "2022-07-13T11:56:52.509304Z",
     "shell.execute_reply": "2022-07-13T11:56:52.508447Z"
    },
    "papermill": {
     "duration": 0.014132,
     "end_time": "2022-07-13T11:56:52.511434",
     "exception": false,
     "start_time": "2022-07-13T11:56:52.497302",
     "status": "completed"
    },
    "tags": []
   },
   "outputs": [],
   "source": [
    "# step_3.hint()\n",
    "# step_3.solution()"
   ]
  },
  {
   "cell_type": "markdown",
   "id": "3be186ff",
   "metadata": {
    "papermill": {
     "duration": 0.006707,
     "end_time": "2022-07-13T11:56:52.524994",
     "exception": false,
     "start_time": "2022-07-13T11:56:52.518287",
     "status": "completed"
    },
    "tags": []
   },
   "source": [
    "## Step 4: Make Predictions\n",
    "Make predictions with the model's `predict` command using `X` as the data. Save the results to a variable called `predictions`."
   ]
  },
  {
   "cell_type": "code",
   "execution_count": 10,
   "id": "b50f1cee",
   "metadata": {
    "execution": {
     "iopub.execute_input": "2022-07-13T11:56:52.541427Z",
     "iopub.status.busy": "2022-07-13T11:56:52.540819Z",
     "iopub.status.idle": "2022-07-13T11:56:52.555289Z",
     "shell.execute_reply": "2022-07-13T11:56:52.553883Z"
    },
    "papermill": {
     "duration": 0.025401,
     "end_time": "2022-07-13T11:56:52.557889",
     "exception": false,
     "start_time": "2022-07-13T11:56:52.532488",
     "status": "completed"
    },
    "tags": []
   },
   "outputs": [
    {
     "name": "stdout",
     "output_type": "stream",
     "text": [
      "[208500. 181500. 223500. ... 266500. 142125. 147500.]\n"
     ]
    },
    {
     "data": {
      "application/javascript": [
       "parent.postMessage({\"jupyterEvent\": \"custom.exercise_interaction\", \"data\": {\"outcomeType\": 1, \"valueTowardsCompletion\": 0.25, \"interactionType\": 1, \"questionType\": 2, \"questionId\": \"4_MakePredictions\", \"learnToolsVersion\": \"0.3.4\", \"failureMessage\": \"\", \"exceptionClass\": \"\", \"trace\": \"\"}}, \"*\")"
      ],
      "text/plain": [
       "<IPython.core.display.Javascript object>"
      ]
     },
     "metadata": {},
     "output_type": "display_data"
    },
    {
     "data": {
      "text/markdown": [
       "<span style=\"color:#33cc33\">Correct</span>"
      ],
      "text/plain": [
       "Correct"
      ]
     },
     "metadata": {},
     "output_type": "display_data"
    }
   ],
   "source": [
    "predictions = iowa_model.predict(X)\n",
    "print(predictions)\n",
    "\n",
    "# Check your answer\n",
    "step_4.check()"
   ]
  },
  {
   "cell_type": "code",
   "execution_count": 11,
   "id": "54ff9503",
   "metadata": {
    "execution": {
     "iopub.execute_input": "2022-07-13T11:56:52.574112Z",
     "iopub.status.busy": "2022-07-13T11:56:52.573706Z",
     "iopub.status.idle": "2022-07-13T11:56:52.577711Z",
     "shell.execute_reply": "2022-07-13T11:56:52.576550Z"
    },
    "papermill": {
     "duration": 0.014833,
     "end_time": "2022-07-13T11:56:52.580002",
     "exception": false,
     "start_time": "2022-07-13T11:56:52.565169",
     "status": "completed"
    },
    "tags": []
   },
   "outputs": [],
   "source": [
    "# step_4.hint()\n",
    "# step_4.solution()"
   ]
  },
  {
   "cell_type": "markdown",
   "id": "4606187b",
   "metadata": {
    "papermill": {
     "duration": 0.007226,
     "end_time": "2022-07-13T11:56:52.594417",
     "exception": false,
     "start_time": "2022-07-13T11:56:52.587191",
     "status": "completed"
    },
    "tags": []
   },
   "source": [
    "## Think About Your Results\n",
    "\n",
    "Use the `head` method to compare the top few predictions to the actual home values (in `y`) for those same homes. Anything surprising?\n"
   ]
  },
  {
   "cell_type": "code",
   "execution_count": 12,
   "id": "69c6720e",
   "metadata": {
    "execution": {
     "iopub.execute_input": "2022-07-13T11:56:52.610309Z",
     "iopub.status.busy": "2022-07-13T11:56:52.609936Z",
     "iopub.status.idle": "2022-07-13T11:56:52.614771Z",
     "shell.execute_reply": "2022-07-13T11:56:52.613550Z"
    },
    "papermill": {
     "duration": 0.015938,
     "end_time": "2022-07-13T11:56:52.617379",
     "exception": false,
     "start_time": "2022-07-13T11:56:52.601441",
     "status": "completed"
    },
    "tags": []
   },
   "outputs": [],
   "source": [
    "# You can write code in this cell\n"
   ]
  },
  {
   "cell_type": "markdown",
   "id": "49952562",
   "metadata": {
    "papermill": {
     "duration": 0.007295,
     "end_time": "2022-07-13T11:56:52.631869",
     "exception": false,
     "start_time": "2022-07-13T11:56:52.624574",
     "status": "completed"
    },
    "tags": []
   },
   "source": [
    "It's natural to ask how accurate the model's predictions will be and how you can improve that. That will be you're next step.\n",
    "\n",
    "# Keep Going\n",
    "\n",
    "You are ready for **[Model Validation](https://www.kaggle.com/dansbecker/model-validation).**\n"
   ]
  },
  {
   "cell_type": "markdown",
   "id": "938a335c",
   "metadata": {
    "papermill": {
     "duration": 0.006872,
     "end_time": "2022-07-13T11:56:52.646088",
     "exception": false,
     "start_time": "2022-07-13T11:56:52.639216",
     "status": "completed"
    },
    "tags": []
   },
   "source": [
    "---\n",
    "\n",
    "\n",
    "\n",
    "\n",
    "*Have questions or comments? Visit the [course discussion forum](https://www.kaggle.com/learn/intro-to-machine-learning/discussion) to chat with other learners.*"
   ]
  }
 ],
 "metadata": {
  "kernelspec": {
   "display_name": "Python 3",
   "language": "python",
   "name": "python3"
  },
  "language_info": {
   "codemirror_mode": {
    "name": "ipython",
    "version": 3
   },
   "file_extension": ".py",
   "mimetype": "text/x-python",
   "name": "python",
   "nbconvert_exporter": "python",
   "pygments_lexer": "ipython3",
   "version": "3.7.12"
  },
  "papermill": {
   "default_parameters": {},
   "duration": 13.224871,
   "end_time": "2022-07-13T11:56:53.375734",
   "environment_variables": {},
   "exception": null,
   "input_path": "__notebook__.ipynb",
   "output_path": "__notebook__.ipynb",
   "parameters": {},
   "start_time": "2022-07-13T11:56:40.150863",
   "version": "2.3.4"
  }
 },
 "nbformat": 4,
 "nbformat_minor": 5
}
